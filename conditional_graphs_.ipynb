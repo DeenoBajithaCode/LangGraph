{
  "nbformat": 4,
  "nbformat_minor": 0,
  "metadata": {
    "colab": {
      "provenance": [],
      "authorship_tag": "ABX9TyM4XnfqO5maqPpSzFjFuBab",
      "include_colab_link": true
    },
    "kernelspec": {
      "name": "python3",
      "display_name": "Python 3"
    },
    "language_info": {
      "name": "python"
    }
  },
  "cells": [
    {
      "cell_type": "markdown",
      "metadata": {
        "id": "view-in-github",
        "colab_type": "text"
      },
      "source": [
        "<a href=\"https://colab.research.google.com/github/DeenoBajithaCode/LangGraph/blob/main/conditional_graphs_.ipynb\" target=\"_parent\"><img src=\"https://colab.research.google.com/assets/colab-badge.svg\" alt=\"Open In Colab\"/></a>"
      ]
    },
    {
      "cell_type": "markdown",
      "source": [
        "#Installing LangGraph\n",
        "This command installs the langgraph library, which allows us to build and simulate graph-based workflows in Python."
      ],
      "metadata": {
        "id": "U3gbdwHgokif"
      }
    },
    {
      "cell_type": "code",
      "source": [
        "!pip install langgraph -q"
      ],
      "metadata": {
        "colab": {
          "base_uri": "https://localhost:8080/"
        },
        "id": "k-bxtq5aopsr",
        "outputId": "2bc53a17-7abb-4abd-bfa9-1c8a4f2b4801"
      },
      "execution_count": 1,
      "outputs": [
        {
          "output_type": "stream",
          "name": "stdout",
          "text": [
            "\u001b[2K     \u001b[90m━━━━━━━━━━━━━━━━━━━━━━━━━━━━━━━━━━━━━━━━\u001b[0m \u001b[32m43.7/43.7 kB\u001b[0m \u001b[31m2.4 MB/s\u001b[0m eta \u001b[36m0:00:00\u001b[0m\n",
            "\u001b[2K   \u001b[90m━━━━━━━━━━━━━━━━━━━━━━━━━━━━━━━━━━━━━━━━\u001b[0m \u001b[32m152.4/152.4 kB\u001b[0m \u001b[31m5.2 MB/s\u001b[0m eta \u001b[36m0:00:00\u001b[0m\n",
            "\u001b[2K   \u001b[90m━━━━━━━━━━━━━━━━━━━━━━━━━━━━━━━━━━━━━━━━\u001b[0m \u001b[32m44.2/44.2 kB\u001b[0m \u001b[31m4.1 MB/s\u001b[0m eta \u001b[36m0:00:00\u001b[0m\n",
            "\u001b[2K   \u001b[90m━━━━━━━━━━━━━━━━━━━━━━━━━━━━━━━━━━━━━━━━\u001b[0m \u001b[32m50.0/50.0 kB\u001b[0m \u001b[31m4.0 MB/s\u001b[0m eta \u001b[36m0:00:00\u001b[0m\n",
            "\u001b[2K   \u001b[90m━━━━━━━━━━━━━━━━━━━━━━━━━━━━━━━━━━━━━━━━\u001b[0m \u001b[32m216.5/216.5 kB\u001b[0m \u001b[31m19.0 MB/s\u001b[0m eta \u001b[36m0:00:00\u001b[0m\n",
            "\u001b[?25h"
          ]
        }
      ]
    },
    {
      "cell_type": "code",
      "execution_count": 2,
      "metadata": {
        "id": "A2Q6MfAElcdH"
      },
      "outputs": [],
      "source": [
        "from typing import TypedDict, Literal\n",
        "from langgraph.graph import StateGraph\n"
      ]
    },
    {
      "cell_type": "markdown",
      "source": [
        "# Step 1: Define the state"
      ],
      "metadata": {
        "id": "LJ09hd6hozJF"
      }
    },
    {
      "cell_type": "code",
      "source": [
        "class NumberState(TypedDict):\n",
        "    value: int\n",
        "    result: str"
      ],
      "metadata": {
        "id": "MN7IK2WLoyH5"
      },
      "execution_count": 3,
      "outputs": []
    },
    {
      "cell_type": "markdown",
      "source": [
        "# Step 2: Define a classifier node (decides which path to take)"
      ],
      "metadata": {
        "id": "Vw_8MHQjo6mX"
      }
    },
    {
      "cell_type": "code",
      "source": [
        "def classify_number(state: NumberState) -> Literal[\"positive\", \"negative\", \"zero\"]:\n",
        "    num = state[\"value\"]\n",
        "    if num > 0:\n",
        "        return \"positive\"\n",
        "    elif num < 0:\n",
        "        return \"negative\"\n",
        "    else:\n",
        "        return \"zero\""
      ],
      "metadata": {
        "id": "4UES-pCMo9eg"
      },
      "execution_count": 4,
      "outputs": []
    },
    {
      "cell_type": "markdown",
      "source": [
        "# Step 3: Define the handler nodes"
      ],
      "metadata": {
        "id": "39hl92hToxzT"
      }
    },
    {
      "cell_type": "code",
      "source": [
        "def handle_positive(state: NumberState) -> NumberState:\n",
        "    return {**state, \"result\": f\"{state['value']} is positive.\"}\n",
        "\n",
        "def handle_negative(state: NumberState) -> NumberState:\n",
        "    return {**state, \"result\": f\"{state['value']} is negative.\"}\n",
        "\n",
        "def handle_zero(state: NumberState) -> NumberState:\n",
        "    return {**state, \"result\": f\"{state['value']} is zero.\"}"
      ],
      "metadata": {
        "id": "X6Zsn0ckpENW"
      },
      "execution_count": 5,
      "outputs": []
    },
    {
      "cell_type": "markdown",
      "source": [
        "# Step 4: Build the conditional graph"
      ],
      "metadata": {
        "id": "lfHMPz_JpSos"
      }
    },
    {
      "cell_type": "code",
      "source": [
        "graph = StateGraph(NumberState)\n",
        "graph.add_node(\"classify\", lambda x: x)\n",
        "graph.add_conditional_edges(\n",
        "    \"classify\", classify_number, {\n",
        "        \"positive\": \"handle_positive\",\n",
        "        \"negative\": \"handle_negative\",\n",
        "        \"zero\": \"handle_zero\"\n",
        "    }\n",
        ")\n",
        "\n",
        "\n",
        "graph.add_node(\"handle_positive\", handle_positive)\n",
        "graph.add_node(\"handle_negative\", handle_negative)\n",
        "graph.add_node(\"handle_zero\", handle_zero)\n",
        "\n",
        "# All handlers go to END\n",
        "graph.set_entry_point(\"classify\")\n",
        "graph.set_finish_point(\"handle_positive\")\n",
        "graph.set_finish_point(\"handle_negative\")\n",
        "graph.set_finish_point(\"handle_zero\")"
      ],
      "metadata": {
        "colab": {
          "base_uri": "https://localhost:8080/"
        },
        "id": "vgmQns_xpQvW",
        "outputId": "13df0255-ddbc-48b3-9aac-b0245af2e0fa"
      },
      "execution_count": 25,
      "outputs": [
        {
          "output_type": "execute_result",
          "data": {
            "text/plain": [
              "<langgraph.graph.state.StateGraph at 0x7b1f92284e50>"
            ]
          },
          "metadata": {},
          "execution_count": 25
        }
      ]
    },
    {
      "cell_type": "markdown",
      "source": [
        "Step 5: compile"
      ],
      "metadata": {
        "id": "MPiQUNnIpbGR"
      }
    },
    {
      "cell_type": "code",
      "source": [
        "app = graph.compile()"
      ],
      "metadata": {
        "id": "bnlEXiH_pZHm"
      },
      "execution_count": 26,
      "outputs": []
    },
    {
      "cell_type": "markdown",
      "source": [
        "Step 6: Visualize the graph"
      ],
      "metadata": {
        "id": "Lakennuopiy5"
      }
    },
    {
      "cell_type": "code",
      "source": [
        "from IPython.display import Image, display\n",
        "display(Image(app.get_graph().draw_mermaid_png()))"
      ],
      "metadata": {
        "colab": {
          "base_uri": "https://localhost:8080/",
          "height": 374
        },
        "id": "0xFpSz_5peoL",
        "outputId": "ec2db712-eb3b-4195-ead5-fb40cca8d122"
      },
      "execution_count": 27,
      "outputs": [
        {
          "output_type": "display_data",
          "data": {
            "image/png": "[encoded data removed]",
            "text/plain": [
              "<IPython.core.display.Image object>"
            ]
          },
          "metadata": {}
        }
      ]
    },
    {
      "cell_type": "code",
      "source": [
        "# Results"
      ],
      "metadata": {
        "id": "D0FtMzTppyvd"
      },
      "execution_count": null,
      "outputs": []
    },
    {
      "cell_type": "code",
      "source": [
        "for val in [10, -7, 0]:\n",
        "    input_state = {\"value\": val, \"result\": \"\"}\n",
        "    result = app.invoke(input_state)\n",
        "    print(result[\"result\"])"
      ],
      "metadata": {
        "colab": {
          "base_uri": "https://localhost:8080/"
        },
        "id": "OetBn1LkpxeT",
        "outputId": "589498b6-d9d5-4972-ba6b-b545f5ee40d3"
      },
      "execution_count": 28,
      "outputs": [
        {
          "output_type": "stream",
          "name": "stdout",
          "text": [
            "10 is positive.\n",
            "-7 is negative.\n",
            "0 is zero.\n"
          ]
        }
      ]
    }
  ]
}