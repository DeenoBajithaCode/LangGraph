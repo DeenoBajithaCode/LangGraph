{
  "nbformat": 4,
  "nbformat_minor": 0,
  "metadata": {
    "colab": {
      "provenance": [],
      "authorship_tag": "ABX9TyPQMDvyVtGdoXlYeVl8ooQb",
      "include_colab_link": true
    },
    "kernelspec": {
      "name": "python3",
      "display_name": "Python 3"
    },
    "language_info": {
      "name": "python"
    }
  },
  "cells": [
    {
      "cell_type": "markdown",
      "metadata": {
        "id": "view-in-github",
        "colab_type": "text"
      },
      "source": [
        "<a href=\"https://colab.research.google.com/github/DeenoBajithaCode/LangGraph/blob/main/sequential_graphs.ipynb\" target=\"_parent\"><img src=\"https://colab.research.google.com/assets/colab-badge.svg\" alt=\"Open In Colab\"/></a>"
      ]
    },
    {
      "cell_type": "markdown",
      "source": [
        "### Installing LangGraph\n",
        "\n",
        "This command installs the `langgraph` library, which allows us to build and simulate graph-based workflows in Python.\n"
      ],
      "metadata": {
        "id": "Jq6f1986isv0"
      }
    },
    {
      "cell_type": "code",
      "execution_count": 1,
      "metadata": {
        "colab": {
          "base_uri": "https://localhost:8080/"
        },
        "id": "CrDhVP4tiM_e",
        "outputId": "6cb57e36-e67b-493b-e210-9007093a0518"
      },
      "outputs": [
        {
          "output_type": "stream",
          "name": "stdout",
          "text": [
            "\u001b[2K     \u001b[90m━━━━━━━━━━━━━━━━━━━━━━━━━━━━━━━━━━━━━━━━\u001b[0m \u001b[32m43.7/43.7 kB\u001b[0m \u001b[31m1.4 MB/s\u001b[0m eta \u001b[36m0:00:00\u001b[0m\n",
            "\u001b[2K   \u001b[90m━━━━━━━━━━━━━━━━━━━━━━━━━━━━━━━━━━━━━━━━\u001b[0m \u001b[32m152.4/152.4 kB\u001b[0m \u001b[31m2.7 MB/s\u001b[0m eta \u001b[36m0:00:00\u001b[0m\n",
            "\u001b[2K   \u001b[90m━━━━━━━━━━━━━━━━━━━━━━━━━━━━━━━━━━━━━━━━\u001b[0m \u001b[32m44.2/44.2 kB\u001b[0m \u001b[31m1.1 MB/s\u001b[0m eta \u001b[36m0:00:00\u001b[0m\n",
            "\u001b[2K   \u001b[90m━━━━━━━━━━━━━━━━━━━━━━━━━━━━━━━━━━━━━━━━\u001b[0m \u001b[32m50.0/50.0 kB\u001b[0m \u001b[31m1.8 MB/s\u001b[0m eta \u001b[36m0:00:00\u001b[0m\n",
            "\u001b[2K   \u001b[90m━━━━━━━━━━━━━━━━━━━━━━━━━━━━━━━━━━━━━━━━\u001b[0m \u001b[32m216.5/216.5 kB\u001b[0m \u001b[31m9.1 MB/s\u001b[0m eta \u001b[36m0:00:00\u001b[0m\n",
            "\u001b[?25h"
          ]
        }
      ],
      "source": [
        "!pip install langgraph -q"
      ]
    },
    {
      "cell_type": "code",
      "source": [
        "from typing import TypedDict\n",
        "from langgraph.graph import StateGraph\n",
        "import string"
      ],
      "metadata": {
        "id": "iSyEHEyei6ob"
      },
      "execution_count": 2,
      "outputs": []
    },
    {
      "cell_type": "markdown",
      "source": [
        "# Step 1: Define State"
      ],
      "metadata": {
        "id": "2rmzdttfjAC2"
      }
    },
    {
      "cell_type": "code",
      "source": [
        "class CleanState(TypedDict):\n",
        "    original_text: str\n",
        "    cleaned_text: str"
      ],
      "metadata": {
        "id": "zdr1gPRbjErp"
      },
      "execution_count": 3,
      "outputs": []
    },
    {
      "cell_type": "markdown",
      "source": [
        "# Step 2: Node 1 — Lowercase\n"
      ],
      "metadata": {
        "id": "JjlWy4OpjLOs"
      }
    },
    {
      "cell_type": "code",
      "source": [
        "def to_lowercase(state: CleanState) -> CleanState:\n",
        "    lowered = state[\"original_text\"].lower()\n",
        "    return {**state, \"cleaned_text\": lowered}"
      ],
      "metadata": {
        "id": "lHrxwLSXjKCQ"
      },
      "execution_count": 4,
      "outputs": []
    },
    {
      "cell_type": "markdown",
      "source": [
        "# Step 3: Node 2 — Remove punctuation"
      ],
      "metadata": {
        "id": "MRSnIQ-rjdO5"
      }
    },
    {
      "cell_type": "code",
      "source": [
        "def remove_punctuation(state: CleanState) -> CleanState:\n",
        "    text = state[\"cleaned_text\"]\n",
        "    no_punct = text.translate(str.maketrans(\"\", \"\", string.punctuation))\n",
        "    return {**state, \"cleaned_text\": no_punct}\n"
      ],
      "metadata": {
        "id": "OSUQDioNjarP"
      },
      "execution_count": 5,
      "outputs": []
    },
    {
      "cell_type": "markdown",
      "source": [
        "# Step 4: Node 3 — Remove extra spaces"
      ],
      "metadata": {
        "id": "HXTVSXzHjf-o"
      }
    },
    {
      "cell_type": "code",
      "source": [
        "def remove_extra_spaces(state: CleanState) -> CleanState:\n",
        "    text = \" \".join(state[\"cleaned_text\"].split())\n",
        "    return {**state, \"cleaned_text\": text}"
      ],
      "metadata": {
        "id": "4gt_xNm5jmJ8"
      },
      "execution_count": 6,
      "outputs": []
    },
    {
      "cell_type": "markdown",
      "source": [
        "# Step 5: Build the sequential graph\n",
        "\n"
      ],
      "metadata": {
        "id": "2V60b5UXjtcB"
      }
    },
    {
      "cell_type": "code",
      "source": [
        "graph = StateGraph(CleanState)\n",
        "graph.add_node(\"lowercase\", to_lowercase)\n",
        "graph.add_node(\"remove_punctuation\", remove_punctuation)\n",
        "graph.add_node(\"remove_extra_spaces\", remove_extra_spaces)"
      ],
      "metadata": {
        "colab": {
          "base_uri": "https://localhost:8080/"
        },
        "id": "vKhc4zZXjvR4",
        "outputId": "9375ad3b-da7d-4638-f322-02c09ae74778"
      },
      "execution_count": 7,
      "outputs": [
        {
          "output_type": "execute_result",
          "data": {
            "text/plain": [
              "<langgraph.graph.state.StateGraph at 0x7a53d1b5dc10>"
            ]
          },
          "metadata": {},
          "execution_count": 7
        }
      ]
    },
    {
      "cell_type": "markdown",
      "source": [
        "#Step 6: Create Sequential flow and compile\n"
      ],
      "metadata": {
        "id": "oXHD2pk5j3S1"
      }
    },
    {
      "cell_type": "code",
      "source": [
        "graph.set_entry_point(\"lowercase\")\n",
        "graph.add_edge(\"lowercase\", \"remove_punctuation\")\n",
        "graph.add_edge(\"remove_punctuation\", \"remove_extra_spaces\")\n",
        "graph.set_finish_point(\"remove_extra_spaces\")\n",
        "app = graph.compile()"
      ],
      "metadata": {
        "id": "loZgXQgBj5Oq"
      },
      "execution_count": 8,
      "outputs": []
    },
    {
      "cell_type": "markdown",
      "source": [
        "#Step 7: Visualize the graph"
      ],
      "metadata": {
        "id": "NwLq2gY3j9LU"
      }
    },
    {
      "cell_type": "code",
      "source": [
        "from IPython.display import Image, display\n",
        "display(Image(app.get_graph().draw_mermaid_png()))"
      ],
      "metadata": {
        "colab": {
          "base_uri": "https://localhost:8080/",
          "height": 449
        },
        "id": "ZQuaAmMhkCnr",
        "outputId": "8d08d97c-f61f-409d-d44e-47108c4df740"
      },
      "execution_count": 9,
      "outputs": [
        {
          "output_type": "display_data",
          "data": {
            "image/png": "[encoded data removed]",
            "text/plain": [
              "<IPython.core.display.Image object>"
            ]
          },
          "metadata": {}
        }
      ]
    },
    {
      "cell_type": "markdown",
      "source": [
        "#Step 8: Run"
      ],
      "metadata": {
        "id": "KURiZzd_kfV8"
      }
    },
    {
      "cell_type": "code",
      "source": [
        "input_state = {\n",
        "    \"original_text\": \"  Hello, World!  This is   LangGraph!!!  \",\n",
        "    \"cleaned_text\": \"\"\n",
        "}\n",
        "\n",
        "result = app.invoke(input_state)"
      ],
      "metadata": {
        "id": "7UpHvgg2kV62"
      },
      "execution_count": 10,
      "outputs": []
    },
    {
      "cell_type": "markdown",
      "source": [
        "#Resulst"
      ],
      "metadata": {
        "id": "a4yVY1sdkmp8"
      }
    },
    {
      "cell_type": "code",
      "source": [
        "print(\"Cleaned Text:\", result[\"cleaned_text\"])"
      ],
      "metadata": {
        "colab": {
          "base_uri": "https://localhost:8080/"
        },
        "id": "knKHPQtxkqwW",
        "outputId": "e08707c9-ce6e-403f-bfd7-184ae596c7d7"
      },
      "execution_count": 11,
      "outputs": [
        {
          "output_type": "stream",
          "name": "stdout",
          "text": [
            "Cleaned Text: hello world this is langgraph\n"
          ]
        }
      ]
    }
  ]
}