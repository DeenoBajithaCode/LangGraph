{
  "nbformat": 4,
  "nbformat_minor": 0,
  "metadata": {
    "colab": {
      "provenance": [],
      "authorship_tag": "ABX9TyPychKjcDNCQVY8BnLqCgWE",
      "include_colab_link": true
    },
    "kernelspec": {
      "name": "python3",
      "display_name": "Python 3"
    },
    "language_info": {
      "name": "python"
    }
  },
  "cells": [
    {
      "cell_type": "markdown",
      "metadata": {
        "id": "view-in-github",
        "colab_type": "text"
      },
      "source": [
        "<a href=\"https://colab.research.google.com/github/DeenoBajithaCode/LangGraph/blob/main/simple_graphs.ipynb\" target=\"_parent\"><img src=\"https://colab.research.google.com/assets/colab-badge.svg\" alt=\"Open In Colab\"/></a>"
      ]
    },
    {
      "cell_type": "markdown",
      "source": [
        "### Installing LangGraph\n",
        "\n",
        "This command installs the `langgraph` library, which allows us to build and simulate graph-based workflows in Python.\n"
      ],
      "metadata": {
        "id": "WTSDZ4c1LGuh"
      }
    },
    {
      "cell_type": "code",
      "execution_count": null,
      "metadata": {
        "colab": {
          "base_uri": "https://localhost:8080/"
        },
        "id": "SkmogBu2KSoL",
        "outputId": "3bf83c6f-71ca-49b1-d930-6587dee397c8"
      },
      "outputs": [
        {
          "output_type": "stream",
          "name": "stdout",
          "text": [
            "\u001b[?25l     \u001b[90m━━━━━━━━━━━━━━━━━━━━━━━━━━━━━━━━━━━━━━━━\u001b[0m \u001b[32m0.0/43.7 kB\u001b[0m \u001b[31m?\u001b[0m eta \u001b[36m-:--:--\u001b[0m\r\u001b[2K     \u001b[90m━━━━━━━━━━━━━━━━━━━━━━━━━━━━━━━━━━━━━━━━\u001b[0m \u001b[32m43.7/43.7 kB\u001b[0m \u001b[31m1.7 MB/s\u001b[0m eta \u001b[36m0:00:00\u001b[0m\n",
            "\u001b[2K   \u001b[90m━━━━━━━━━━━━━━━━━━━━━━━━━━━━━━━━━━━━━━━━\u001b[0m \u001b[32m152.4/152.4 kB\u001b[0m \u001b[31m4.7 MB/s\u001b[0m eta \u001b[36m0:00:00\u001b[0m\n",
            "\u001b[2K   \u001b[90m━━━━━━━━━━━━━━━━━━━━━━━━━━━━━━━━━━━━━━━━\u001b[0m \u001b[32m44.2/44.2 kB\u001b[0m \u001b[31m3.3 MB/s\u001b[0m eta \u001b[36m0:00:00\u001b[0m\n",
            "\u001b[2K   \u001b[90m━━━━━━━━━━━━━━━━━━━━━━━━━━━━━━━━━━━━━━━━\u001b[0m \u001b[32m50.0/50.0 kB\u001b[0m \u001b[31m3.5 MB/s\u001b[0m eta \u001b[36m0:00:00\u001b[0m\n",
            "\u001b[2K   \u001b[90m━━━━━━━━━━━━━━━━━━━━━━━━━━━━━━━━━━━━━━━━\u001b[0m \u001b[32m216.5/216.5 kB\u001b[0m \u001b[31m7.5 MB/s\u001b[0m eta \u001b[36m0:00:00\u001b[0m\n",
            "\u001b[?25h"
          ]
        }
      ],
      "source": [
        "!pip install langgraph -q"
      ]
    },
    {
      "cell_type": "markdown",
      "source": [
        "##Simple Graph (single inputs)"
      ],
      "metadata": {
        "id": "znD9VJTNLWOa"
      }
    },
    {
      "cell_type": "code",
      "source": [
        "from typing import TypedDict\n",
        "from langgraph.graph import StateGraph, START, END"
      ],
      "metadata": {
        "id": "s6Niell8LSQ-"
      },
      "execution_count": null,
      "outputs": []
    },
    {
      "cell_type": "markdown",
      "source": [
        "# Step 1: Define state type"
      ],
      "metadata": {
        "id": "l296PFB7MX-E"
      }
    },
    {
      "cell_type": "code",
      "source": [
        "class ReverseState(TypedDict):\n",
        "    text: str\n",
        "    reversed_text: str"
      ],
      "metadata": {
        "id": "9g15iD06MEG2"
      },
      "execution_count": null,
      "outputs": []
    },
    {
      "cell_type": "markdown",
      "source": [
        "# Step 2: Define a node (function) for reversing text"
      ],
      "metadata": {
        "id": "WVPyN1YyMpye"
      }
    },
    {
      "cell_type": "code",
      "source": [
        "def reverse_text_node(state: ReverseState) -> ReverseState:\n",
        "    reversed_text = state[\"text\"][::-1]\n",
        "    return {\"text\": state[\"text\"], \"reversed_text\": reversed_text}"
      ],
      "metadata": {
        "id": "6FbxIQsPMlGu"
      },
      "execution_count": null,
      "outputs": []
    },
    {
      "cell_type": "markdown",
      "source": [
        "# Step 3: Build the graph"
      ],
      "metadata": {
        "id": "6phaQbIKNq7C"
      }
    },
    {
      "cell_type": "code",
      "source": [
        "graph = StateGraph(ReverseState)\n",
        "graph.add_node(\"reverse\", reverse_text_node)\n",
        "graph.set_entry_point(\"reverse\")\n",
        "graph.set_finish_point(\"reverse\")\n",
        "app = graph.compile()"
      ],
      "metadata": {
        "id": "4IfwKTByNmVx"
      },
      "execution_count": null,
      "outputs": []
    },
    {
      "cell_type": "markdown",
      "source": [
        "# Step 4: Visualize the graph"
      ],
      "metadata": {
        "id": "8Uq3GunrN5f8"
      }
    },
    {
      "cell_type": "code",
      "source": [
        "from IPython.display import Image, display\n",
        "display(Image(app.get_graph().draw_mermaid_png()))"
      ],
      "metadata": {
        "colab": {
          "base_uri": "https://localhost:8080/",
          "height": 251
        },
        "id": "n1i5kL9KN4jo",
        "outputId": "691ab2e0-4c79-48db-8646-87e622391357"
      },
      "execution_count": null,
      "outputs": [
        {
          "output_type": "display_data",
          "data": {
            "image/png": "[encoded data removed]",
            "text/plain": [
              "<IPython.core.display.Image object>"
            ]
          },
          "metadata": {}
        }
      ]
    },
    {
      "cell_type": "markdown",
      "source": [
        "# Step 4: Run the graph"
      ],
      "metadata": {
        "id": "KyeS10g5OKNf"
      }
    },
    {
      "cell_type": "code",
      "source": [
        "input_state = {\"text\": \"LangGraph is fun!\", \"reversed_text\": \"\"}\n",
        "final_state = app.invoke(input_state)"
      ],
      "metadata": {
        "id": "Yg_2GBJXODcV"
      },
      "execution_count": null,
      "outputs": []
    },
    {
      "cell_type": "markdown",
      "source": [
        "#Results"
      ],
      "metadata": {
        "id": "yJt_U49WOS5Q"
      }
    },
    {
      "cell_type": "code",
      "source": [
        "print(\"Reversed Text:\", final_state[\"reversed_text\"])"
      ],
      "metadata": {
        "colab": {
          "base_uri": "https://localhost:8080/"
        },
        "id": "cqA9o7HEOWR4",
        "outputId": "0b677a3f-c971-48f2-bd25-1b86b67a232e"
      },
      "execution_count": null,
      "outputs": [
        {
          "output_type": "stream",
          "name": "stdout",
          "text": [
            "Reversed Text: !nuf si hparGgnaL\n"
          ]
        }
      ]
    },
    {
      "cell_type": "markdown",
      "source": [
        "##Simple Graph (Multi inputs)"
      ],
      "metadata": {
        "id": "I1vagMh-QskB"
      }
    },
    {
      "cell_type": "markdown",
      "source": [
        "#Step 1:  Define a simple state"
      ],
      "metadata": {
        "id": "Lu9CtFZXRzyP"
      }
    },
    {
      "cell_type": "code",
      "source": [
        "class SimpleState(TypedDict):\n",
        "    text1: str\n",
        "    text2: str\n",
        "    result: str"
      ],
      "metadata": {
        "id": "4dFRcMPEQuJp"
      },
      "execution_count": null,
      "outputs": []
    },
    {
      "cell_type": "markdown",
      "source": [
        "# Step 2: One node that does everything"
      ],
      "metadata": {
        "id": "NYURgLngSB8a"
      }
    },
    {
      "cell_type": "code",
      "source": [
        "def reverse_and_combine(state: SimpleState) -> SimpleState:\n",
        "    rev1 = state[\"text1\"][::-1]\n",
        "    rev2 = state[\"text2\"][::-1]\n",
        "    return {\n",
        "        \"text1\": state[\"text1\"],\n",
        "        \"text2\": state[\"text2\"],\n",
        "        \"result\": rev1 + \" | \" + rev2\n",
        "    }\n"
      ],
      "metadata": {
        "id": "OoXLDJw1SAKY"
      },
      "execution_count": null,
      "outputs": []
    },
    {
      "cell_type": "markdown",
      "source": [
        "# Step 3: Build simple graph"
      ],
      "metadata": {
        "id": "xQlVzNczSK5j"
      }
    },
    {
      "cell_type": "code",
      "source": [
        "graph = StateGraph(SimpleState)\n",
        "graph.add_node(\"reverse_and_combine\", reverse_and_combine)"
      ],
      "metadata": {
        "colab": {
          "base_uri": "https://localhost:8080/"
        },
        "id": "4ghg2f-FSIzd",
        "outputId": "79d7f9b2-14f9-417a-d396-6c3ee5707bc3"
      },
      "execution_count": null,
      "outputs": [
        {
          "output_type": "execute_result",
          "data": {
            "text/plain": [
              "<langgraph.graph.state.StateGraph at 0x7cdb58c3ce50>"
            ]
          },
          "metadata": {},
          "execution_count": 14
        }
      ]
    },
    {
      "cell_type": "markdown",
      "source": [
        "# Step 4: Entry and finish points are the same"
      ],
      "metadata": {
        "id": "L6SbNp96SO0y"
      }
    },
    {
      "cell_type": "code",
      "source": [
        "graph.set_entry_point(\"reverse_and_combine\")\n",
        "graph.set_finish_point(\"reverse_and_combine\")\n",
        "app = graph.compile()"
      ],
      "metadata": {
        "id": "GSvuT6sHSRSu"
      },
      "execution_count": null,
      "outputs": []
    },
    {
      "cell_type": "markdown",
      "source": [
        "# Step 5: Visualize the graph"
      ],
      "metadata": {
        "id": "81Y6Pzm7SjGj"
      }
    },
    {
      "cell_type": "code",
      "source": [
        "from IPython.display import Image, display\n",
        "display(Image(app.get_graph().draw_mermaid_png()))"
      ],
      "metadata": {
        "colab": {
          "base_uri": "https://localhost:8080/",
          "height": 251
        },
        "id": "BG4XcW5LSgMl",
        "outputId": "45727de1-ca4b-4f63-9100-f01dee0cce0f"
      },
      "execution_count": null,
      "outputs": [
        {
          "output_type": "display_data",
          "data": {
            "image/png": "[encoded data removed]",
            "text/plain": [
              "<IPython.core.display.Image object>"
            ]
          },
          "metadata": {}
        }
      ]
    },
    {
      "cell_type": "markdown",
      "source": [
        "# Step 6: run"
      ],
      "metadata": {
        "id": "79vI09ciSsCH"
      }
    },
    {
      "cell_type": "code",
      "source": [
        "state = {\n",
        "    \"text1\": \"LangGraph\",\n",
        "    \"text2\": \"rocks!\",\n",
        "    \"result\": \"\"\n",
        "}\n",
        "final = app.invoke(state)"
      ],
      "metadata": {
        "id": "7sVG7WX5SunX"
      },
      "execution_count": null,
      "outputs": []
    },
    {
      "cell_type": "markdown",
      "source": [
        "# Results"
      ],
      "metadata": {
        "id": "RdEaX60fS-ap"
      }
    },
    {
      "cell_type": "code",
      "source": [
        "print(\"Result:\", final[\"result\"])"
      ],
      "metadata": {
        "colab": {
          "base_uri": "https://localhost:8080/"
        },
        "id": "PjzsGGCCS5Z0",
        "outputId": "0b4302cb-0adc-478f-9127-883c987b98f5"
      },
      "execution_count": null,
      "outputs": [
        {
          "output_type": "stream",
          "name": "stdout",
          "text": [
            "Result: hparGgnaL | !skcor\n"
          ]
        }
      ]
    }
  ]
}