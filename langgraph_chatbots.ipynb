{
  "nbformat": 4,
  "nbformat_minor": 0,
  "metadata": {
    "colab": {
      "provenance": [],
      "include_colab_link": true
    },
    "kernelspec": {
      "name": "python3",
      "display_name": "Python 3"
    },
    "language_info": {
      "name": "python"
    }
  },
  "cells": [
    {
      "cell_type": "markdown",
      "metadata": {
        "id": "view-in-github",
        "colab_type": "text"
      },
      "source": [
        "<a href=\"https://colab.research.google.com/github/DeenoBajithaCode/LangGraph/blob/main/langgraph_chatbots.ipynb\" target=\"_parent\"><img src=\"https://colab.research.google.com/assets/colab-badge.svg\" alt=\"Open In Colab\"/></a>"
      ]
    },
    {
      "cell_type": "markdown",
      "source": [
        "### Installing LangGraph\n",
        "\n",
        "This command installs the `langgraph` library, which allows us to build and simulate graph-based workflows in Python.\n"
      ],
      "metadata": {
        "id": "dEMSsU0BU-Vb"
      }
    },
    {
      "cell_type": "code",
      "execution_count": 2,
      "metadata": {
        "colab": {
          "base_uri": "https://localhost:8080/"
        },
        "id": "9Q_3sSXTWr9F",
        "outputId": "1b47160a-3385-48cc-cee7-a815d4f6d679"
      },
      "outputs": [
        {
          "output_type": "stream",
          "name": "stdout",
          "text": [
            "\u001b[2K   \u001b[90m━━━━━━━━━━━━━━━━━━━━━━━━━━━━━━━━━━━━━━━━\u001b[0m \u001b[32m1.0/1.0 MB\u001b[0m \u001b[31m22.4 MB/s\u001b[0m eta \u001b[36m0:00:00\u001b[0m\n",
            "\u001b[2K   \u001b[90m━━━━━━━━━━━━━━━━━━━━━━━━━━━━━━━━━━━━━━━━\u001b[0m \u001b[32m65.4/65.4 kB\u001b[0m \u001b[31m4.3 MB/s\u001b[0m eta \u001b[36m0:00:00\u001b[0m\n",
            "\u001b[2K   \u001b[90m━━━━━━━━━━━━━━━━━━━━━━━━━━━━━━━━━━━━━━━━\u001b[0m \u001b[32m438.1/438.1 kB\u001b[0m \u001b[31m20.5 MB/s\u001b[0m eta \u001b[36m0:00:00\u001b[0m\n",
            "\u001b[2K   \u001b[90m━━━━━━━━━━━━━━━━━━━━━━━━━━━━━━━━━━━━━━━━\u001b[0m \u001b[32m363.0/363.0 kB\u001b[0m \u001b[31m23.6 MB/s\u001b[0m eta \u001b[36m0:00:00\u001b[0m\n",
            "\u001b[2K     \u001b[90m━━━━━━━━━━━━━━━━━━━━━━━━━━━━━━━━━━━━━━━━\u001b[0m \u001b[32m43.7/43.7 kB\u001b[0m \u001b[31m2.6 MB/s\u001b[0m eta \u001b[36m0:00:00\u001b[0m\n",
            "\u001b[2K   \u001b[90m━━━━━━━━━━━━━━━━━━━━━━━━━━━━━━━━━━━━━━━━\u001b[0m \u001b[32m152.4/152.4 kB\u001b[0m \u001b[31m8.2 MB/s\u001b[0m eta \u001b[36m0:00:00\u001b[0m\n",
            "\u001b[2K   \u001b[90m━━━━━━━━━━━━━━━━━━━━━━━━━━━━━━━━━━━━━━━━\u001b[0m \u001b[32m44.2/44.2 kB\u001b[0m \u001b[31m2.8 MB/s\u001b[0m eta \u001b[36m0:00:00\u001b[0m\n",
            "\u001b[2K   \u001b[90m━━━━━━━━━━━━━━━━━━━━━━━━━━━━━━━━━━━━━━━━\u001b[0m \u001b[32m50.0/50.0 kB\u001b[0m \u001b[31m3.3 MB/s\u001b[0m eta \u001b[36m0:00:00\u001b[0m\n",
            "\u001b[2K   \u001b[90m━━━━━━━━━━━━━━━━━━━━━━━━━━━━━━━━━━━━━━━━\u001b[0m \u001b[32m216.5/216.5 kB\u001b[0m \u001b[31m15.7 MB/s\u001b[0m eta \u001b[36m0:00:00\u001b[0m\n",
            "\u001b[?25h"
          ]
        }
      ],
      "source": [
        "!pip install langchain==0.3.24 -q\n",
        "!pip install langchain-openai -q\n",
        "!pip install langgraph -q"
      ]
    },
    {
      "cell_type": "markdown",
      "source": [
        "### Chat Agent\n"
      ],
      "metadata": {
        "id": "OOoYhsIQXm-U"
      }
    },
    {
      "cell_type": "code",
      "source": [
        "from typing import TypedDict, List\n",
        "from langchain_core.messages import HumanMessage\n",
        "from langchain_openai import ChatOpenAI\n",
        "from langgraph.graph import StateGraph, START, END"
      ],
      "metadata": {
        "id": "qffIR7HHWwql"
      },
      "execution_count": 18,
      "outputs": []
    },
    {
      "cell_type": "markdown",
      "source": [
        "##Step 1: Define State"
      ],
      "metadata": {
        "id": "wuIg7-TiVGO4"
      }
    },
    {
      "cell_type": "code",
      "source": [
        "class ChatState(TypedDict):\n",
        "    messages: List[HumanMessage]"
      ],
      "metadata": {
        "id": "CoSkPeWtW4GD"
      },
      "execution_count": 19,
      "outputs": []
    },
    {
      "cell_type": "code",
      "source": [
        "import os\n",
        "from google.colab import userdata\n",
        "\n",
        "os.environ['OPENAI_API_KEY'] = \"*****\"\n",
        "\n",
        "llm = ChatOpenAI(\n",
        "    model=\"gpt-4o\",\n",
        "    temperature=0\n",
        ")"
      ],
      "metadata": {
        "id": "IQcpCbJclPBp"
      },
      "execution_count": 20,
      "outputs": []
    },
    {
      "cell_type": "markdown",
      "source": [
        "##Step 2: Create Chatbot Node"
      ],
      "metadata": {
        "id": "jte6ZnopVfAM"
      }
    },
    {
      "cell_type": "code",
      "source": [
        "def chatbot(state: ChatState) -> ChatState:\n",
        "    response = llm.invoke(state[\"messages\"])\n",
        "    # state[\"messages\"].append(AIMessage(content=response.content))\n",
        "    print(f\"\\nAI: {response.content}\")\n",
        "    return state"
      ],
      "metadata": {
        "id": "A3fnXhZ8Xc6Z"
      },
      "execution_count": 21,
      "outputs": []
    },
    {
      "cell_type": "markdown",
      "source": [
        "##Step 3: Build the graph"
      ],
      "metadata": {
        "id": "YJck3ZfGVhnj"
      }
    },
    {
      "cell_type": "code",
      "source": [
        "workflow = StateGraph(ChatState)\n",
        "\n",
        "workflow.add_node(\"chatbot\", chatbot)\n",
        "\n",
        "workflow.add_edge(START, \"chatbot\")\n",
        "workflow.add_edge(\"chatbot\", END)\n",
        "\n",
        "app = workflow.compile()"
      ],
      "metadata": {
        "id": "_zJAcRAdXfFB"
      },
      "execution_count": 22,
      "outputs": []
    },
    {
      "cell_type": "markdown",
      "source": [
        "# Step 4: Visualize the graph"
      ],
      "metadata": {
        "id": "49TgduKqVwjU"
      }
    },
    {
      "cell_type": "code",
      "source": [
        "from IPython.display import Image, display\n",
        "display(Image(app.get_graph().draw_mermaid_png()))"
      ],
      "metadata": {
        "colab": {
          "base_uri": "https://localhost:8080/",
          "height": 251
        },
        "id": "cZWyXsBfw-6I",
        "outputId": "2281a495-dbe6-4d7f-9490-8e35675f0238"
      },
      "execution_count": 23,
      "outputs": [
        {
          "output_type": "display_data",
          "data": {
            "image/png": "[encoded data removed]",
            "text/plain": [
              "<IPython.core.display.Image object>"
            ]
          },
          "metadata": {}
        }
      ]
    },
    {
      "cell_type": "markdown",
      "source": [
        "#Simple query execution"
      ],
      "metadata": {
        "id": "Pos6GST7V0eR"
      }
    },
    {
      "cell_type": "code",
      "source": [
        "user_input = input(\"Enter a Query: \")\n",
        "result = app.invoke({\"messages\": [HumanMessage(content=user_input)]})"
      ],
      "metadata": {
        "id": "a6LAWfSyYBlL",
        "colab": {
          "base_uri": "https://localhost:8080/"
        },
        "outputId": "994ddec1-72d8-42c0-93f0-e980abef1d48"
      },
      "execution_count": 24,
      "outputs": [
        {
          "output_type": "stream",
          "name": "stdout",
          "text": [
            "Enter a Query: Hello Iam Bajitha\n",
            "\n",
            "AI: Hello Bajitha! How can I assist you today?\n"
          ]
        }
      ]
    },
    {
      "cell_type": "markdown",
      "source": [
        "##Simple CHat Execution"
      ],
      "metadata": {
        "id": "9Y2_phz2V-nL"
      }
    },
    {
      "cell_type": "code",
      "source": [
        "user_input = input(\"Enter a Query: \")\n",
        "while user_input != \"bye\":\n",
        "    result = app.invoke({\"messages\": [HumanMessage(content=user_input)]})\n",
        "    user_input = input(\"Enter a Query: \")"
      ],
      "metadata": {
        "id": "HmZD6QcJXhJ5",
        "colab": {
          "base_uri": "https://localhost:8080/"
        },
        "outputId": "9a047404-09df-436c-c494-17f4f8748b9d"
      },
      "execution_count": 25,
      "outputs": [
        {
          "name": "stdout",
          "output_type": "stream",
          "text": [
            "Enter a Query: Hello I am Bajitha\n",
            "\n",
            "AI: Hello Bajitha! How can I assist you today?\n",
            "Enter a Query: Who Am I ?\n",
            "\n",
            "AI: You are a unique individual with your own thoughts, experiences, and identity. If you're looking for a more specific answer, feel free to share more details or context!\n",
            "Enter a Query: bye\n"
          ]
        }
      ]
    },
    {
      "cell_type": "markdown",
      "source": [
        "##Conversational Chat Agent"
      ],
      "metadata": {
        "id": "etXypD_JMvdI"
      }
    },
    {
      "cell_type": "code",
      "source": [
        "from langchain_openai import ChatOpenAI\n",
        "from langgraph.graph import StateGraph, START, END\n",
        "from typing import TypedDict, List, Union\n",
        "from langchain_core.messages import HumanMessage, AIMessage"
      ],
      "metadata": {
        "id": "9i1m0BKHQuHh"
      },
      "execution_count": 26,
      "outputs": []
    },
    {
      "cell_type": "markdown",
      "source": [
        "##Step 1: Define State"
      ],
      "metadata": {
        "id": "eqgNEAOFWPFz"
      }
    },
    {
      "cell_type": "code",
      "source": [
        "class ChatState(TypedDict):\n",
        "    messages: List[Union[HumanMessage, AIMessage]]"
      ],
      "metadata": {
        "id": "pYVWVUbQQ6i2"
      },
      "execution_count": 27,
      "outputs": []
    },
    {
      "cell_type": "code",
      "source": [
        "import os\n",
        "from google.colab import userdata\n",
        "\n",
        "os.environ['OPENAI_API_KEY'] = \"*****\"\n",
        "\n",
        "llm = ChatOpenAI(\n",
        "    model=\"gpt-4o\",\n",
        "    temperature=0\n",
        ")"
      ],
      "metadata": {
        "id": "65bjjZQDRCn8"
      },
      "execution_count": 28,
      "outputs": []
    },
    {
      "cell_type": "markdown",
      "source": [
        "##Step 2: Visualize the graph"
      ],
      "metadata": {
        "id": "98MgbAfRWYLE"
      }
    },
    {
      "cell_type": "code",
      "source": [
        "from IPython.display import Image, display\n",
        "display(Image(app.get_graph().draw_mermaid_png()))"
      ],
      "metadata": {
        "colab": {
          "base_uri": "https://localhost:8080/",
          "height": 251
        },
        "id": "ch63AzOGRJn0",
        "outputId": "14d3aa4a-39ec-4e54-c62d-5cc5fabc62f2"
      },
      "execution_count": 29,
      "outputs": [
        {
          "output_type": "display_data",
          "data": {
            "image/png": "[encoded data removed]",
            "text/plain": [
              "<IPython.core.display.Image object>"
            ]
          },
          "metadata": {}
        }
      ]
    },
    {
      "cell_type": "markdown",
      "source": [
        "##Simple query execution"
      ],
      "metadata": {
        "id": "3mv7RV3TWgHI"
      }
    },
    {
      "cell_type": "code",
      "source": [
        "user_input = input(\"Enter a Query: \")\n",
        "result = app.invoke({\"messages\": [HumanMessage(content=user_input)]})"
      ],
      "metadata": {
        "colab": {
          "base_uri": "https://localhost:8080/"
        },
        "id": "inx8OpruRMeq",
        "outputId": "52d72a89-6910-4e8b-e952-76abe1f6a828"
      },
      "execution_count": 30,
      "outputs": [
        {
          "output_type": "stream",
          "name": "stdout",
          "text": [
            "Enter a Query: Hello I am Bajitha\n",
            "\n",
            "AI: Hello Bajitha! How can I assist you today?\n"
          ]
        }
      ]
    },
    {
      "cell_type": "markdown",
      "source": [
        "## Historical Conversation Execution"
      ],
      "metadata": {
        "id": "8aieRT6AWiVA"
      }
    },
    {
      "cell_type": "code",
      "source": [
        "conversation_history = []\n",
        "user_input = input(\"Enter a Query: \")\n",
        "while user_input != \"bye\":\n",
        "    conversation_history.append(HumanMessage(content=user_input))\n",
        "    result = app.invoke({\"messages\": conversation_history})\n",
        "    conversation_history = result[\"messages\"]\n",
        "    user_input = input(\"Enter a Query: \")"
      ],
      "metadata": {
        "colab": {
          "base_uri": "https://localhost:8080/"
        },
        "id": "jxissCjQRNeb",
        "outputId": "4ed4edbb-1a2b-4ff2-f2d5-697a54a95b4a"
      },
      "execution_count": 31,
      "outputs": [
        {
          "name": "stdout",
          "output_type": "stream",
          "text": [
            "Enter a Query: Hello I am Bajitha\n",
            "\n",
            "AI: Hello Bajitha! How can I assist you today?\n",
            "Enter a Query: Who Am I?\n",
            "\n",
            "AI: Hello Bajitha! You are the person best equipped to answer that question, as it involves your personal identity, experiences, and self-perception. If you're asking in a more philosophical or existential sense, it could be a reflection on your values, beliefs, and purpose. If you have specific aspects of your identity or life that you'd like to explore or discuss, feel free to share!\n",
            "Enter a Query: bye\n"
          ]
        }
      ]
    }
  ]
}